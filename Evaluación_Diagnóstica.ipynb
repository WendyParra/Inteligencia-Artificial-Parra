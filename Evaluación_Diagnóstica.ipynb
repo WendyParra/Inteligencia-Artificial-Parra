{
  "nbformat": 4,
  "nbformat_minor": 0,
  "metadata": {
    "colab": {
      "provenance": [],
      "toc_visible": true,
      "authorship_tag": "ABX9TyNFObnqkATNK9cCii94wx04",
      "include_colab_link": true
    },
    "kernelspec": {
      "name": "python3",
      "display_name": "Python 3"
    },
    "language_info": {
      "name": "python"
    }
  },
  "cells": [
    {
      "cell_type": "markdown",
      "metadata": {
        "id": "view-in-github",
        "colab_type": "text"
      },
      "source": [
        "<a href=\"https://colab.research.google.com/github/WendyParra/Inteligencia-Artificial-Parra/blob/main/Evaluaci%C3%B3n_Diagn%C3%B3stica.ipynb\" target=\"_parent\"><img src=\"https://colab.research.google.com/assets/colab-badge.svg\" alt=\"Open In Colab\"/></a>"
      ]
    },
    {
      "cell_type": "code",
      "execution_count": null,
      "metadata": {
        "id": "SxxXTZRyVZhw"
      },
      "outputs": [],
      "source": []
    },
    {
      "cell_type": "markdown",
      "source": [
        "# Evaluación Diagnóstica"
      ],
      "metadata": {
        "id": "KBZRUm9YgnOc"
      }
    },
    {
      "cell_type": "markdown",
      "source": [
        "1.- ¿Cómo se declara una lista en Phyton?"
      ],
      "metadata": {
        "id": "dgVl0CV0VjDt"
      }
    },
    {
      "cell_type": "code",
      "source": [
        "my_list=[1,2,3]\n",
        "print(my_list)"
      ],
      "metadata": {
        "colab": {
          "base_uri": "https://localhost:8080/"
        },
        "id": "Pf_LVbI2VphH",
        "outputId": "230b6ec6-23d8-47d8-bbd8-32dcf2e151af"
      },
      "execution_count": null,
      "outputs": [
        {
          "output_type": "stream",
          "name": "stdout",
          "text": [
            "[1, 2, 3]\n"
          ]
        }
      ]
    },
    {
      "cell_type": "markdown",
      "source": [
        "2.- ¿Qué función se usa para conocer el número de elementos en una lista?"
      ],
      "metadata": {
        "id": "PPwcDSnvV9Ap"
      }
    },
    {
      "cell_type": "code",
      "source": [
        "len(my_list)"
      ],
      "metadata": {
        "colab": {
          "base_uri": "https://localhost:8080/"
        },
        "id": "tRRBkTzTWKUQ",
        "outputId": "c1acdbe8-a8de-4996-bb8c-149f43ac9415"
      },
      "execution_count": null,
      "outputs": [
        {
          "output_type": "execute_result",
          "data": {
            "text/plain": [
              "3"
            ]
          },
          "metadata": {},
          "execution_count": 4
        }
      ]
    },
    {
      "cell_type": "markdown",
      "source": [
        "3.- ¿Qué resultado obtendremos al ejecutar el siguiente código?"
      ],
      "metadata": {
        "id": "Wtnri1IjWgge"
      }
    },
    {
      "cell_type": "code",
      "source": [
        "a=[1,2,3,4,5]\n",
        "print(a[::-1])"
      ],
      "metadata": {
        "colab": {
          "base_uri": "https://localhost:8080/"
        },
        "id": "N3oxtKM7WyF3",
        "outputId": "aa9c1ecd-d402-4b75-a13a-4097f21e746f"
      },
      "execution_count": null,
      "outputs": [
        {
          "output_type": "stream",
          "name": "stdout",
          "text": [
            "[5, 4, 3, 2, 1]\n"
          ]
        }
      ]
    },
    {
      "cell_type": "markdown",
      "source": [
        "4.- ¿Cúal es el resultado de la siguiente expresión?\n"
      ],
      "metadata": {
        "id": "3i7cVPjNabp9"
      }
    },
    {
      "cell_type": "code",
      "source": [
        "print(3*\"5\"+2)"
      ],
      "metadata": {
        "colab": {
          "base_uri": "https://localhost:8080/",
          "height": 141
        },
        "id": "4mShq4TGXzOK",
        "outputId": "f8ecc931-fd71-4ea5-e264-08cf1756663d"
      },
      "execution_count": null,
      "outputs": [
        {
          "output_type": "error",
          "ename": "TypeError",
          "evalue": "can only concatenate str (not \"int\") to str",
          "traceback": [
            "\u001b[0;31m---------------------------------------------------------------------------\u001b[0m",
            "\u001b[0;31mTypeError\u001b[0m                                 Traceback (most recent call last)",
            "\u001b[0;32m<ipython-input-6-ecf93d8422a1>\u001b[0m in \u001b[0;36m<cell line: 1>\u001b[0;34m()\u001b[0m\n\u001b[0;32m----> 1\u001b[0;31m \u001b[0mprint\u001b[0m\u001b[0;34m(\u001b[0m\u001b[0;36m3\u001b[0m\u001b[0;34m*\u001b[0m\u001b[0;34m\"5\"\u001b[0m\u001b[0;34m+\u001b[0m\u001b[0;36m2\u001b[0m\u001b[0;34m)\u001b[0m\u001b[0;34m\u001b[0m\u001b[0;34m\u001b[0m\u001b[0m\n\u001b[0m",
            "\u001b[0;31mTypeError\u001b[0m: can only concatenate str (not \"int\") to str"
          ]
        }
      ]
    },
    {
      "cell_type": "markdown",
      "source": [
        "5.- ¿Qué salida generará el siguiente código?"
      ],
      "metadata": {
        "id": "LdJY3Q0XX8XK"
      }
    },
    {
      "cell_type": "code",
      "source": [
        "def foo (x,y=[]): #def es describir función, espera dos parametros uno en X y otro en Y donde y es una lista donde se declara vacio\n",
        "  y.append(x) #.append da el valor de X a la lista\n",
        "  return y #retorna el valor de Y\n",
        "\n",
        "print(foo(1))\n",
        "print(foo(2,[]))\n",
        "print(foo(3))"
      ],
      "metadata": {
        "colab": {
          "base_uri": "https://localhost:8080/"
        },
        "id": "tzjTAmhqYIJz",
        "outputId": "d680133a-4826-486b-cb6a-adb40bde8f0f"
      },
      "execution_count": null,
      "outputs": [
        {
          "output_type": "stream",
          "name": "stdout",
          "text": [
            "[1]\n",
            "[2]\n",
            "[1, 3]\n"
          ]
        }
      ]
    },
    {
      "cell_type": "markdown",
      "source": [
        "6.- ¿Qué resultado obtendremos al ejecutar el siguiente código?"
      ],
      "metadata": {
        "id": "ewNddtNhYptp"
      }
    },
    {
      "cell_type": "code",
      "source": [
        "def multiply_list(numbers,factor):\n",
        "  result=[]\n",
        "  for number in numbers:\n",
        "    for number in numbers:\n",
        "        result.append(number*factor)\n",
        "    return result\n",
        "\n",
        "my_list=[1,2,3]\n",
        "output=multiply_list(my_list,2)\n",
        "print(output)"
      ],
      "metadata": {
        "colab": {
          "base_uri": "https://localhost:8080/"
        },
        "id": "SzOtuNqGYz4G",
        "outputId": "0f499c79-5339-4f60-e5c1-bf5df185140a"
      },
      "execution_count": null,
      "outputs": [
        {
          "output_type": "stream",
          "name": "stdout",
          "text": [
            "[2, 4, 6]\n"
          ]
        }
      ]
    },
    {
      "cell_type": "code",
      "source": [],
      "metadata": {
        "id": "_6z1TvB1ZNO-"
      },
      "execution_count": null,
      "outputs": []
    },
    {
      "cell_type": "code",
      "source": [],
      "metadata": {
        "id": "exnGd2q5hAyY"
      },
      "execution_count": null,
      "outputs": []
    },
    {
      "cell_type": "markdown",
      "source": [
        "# Práctica en phyton"
      ],
      "metadata": {
        "id": "w5hUjFmYg6M2"
      }
    },
    {
      "cell_type": "markdown",
      "source": [
        "Clasificación de una lista de números pares e impares"
      ],
      "metadata": {
        "id": "xSGK8unAhELH"
      }
    },
    {
      "cell_type": "code",
      "source": [
        "#declaración de variables\n",
        "numeros=[10,25,36,98,77,34,89,58]\n",
        "pares=[]\n",
        "impares = []\n",
        "#print(type[numeros[0]])     funcion type es para ver que tipo de dato es la variable y se imprime"
      ],
      "metadata": {
        "id": "lJa2rtErhf7V"
      },
      "execution_count": null,
      "outputs": []
    },
    {
      "cell_type": "code",
      "source": [
        "#ciclo for para recorrer la lista\n",
        "for numero in numeros:\n",
        "  if numero % 2 == 0:\n",
        "    #pares[0] = numeros[0]; en java, c, c# \"o es el valor de 'i' \"\n",
        "    pares.append(numero)\n",
        "  else:\n",
        "    impares.append(numero)"
      ],
      "metadata": {
        "id": "pa3nbEO3ikg2"
      },
      "execution_count": null,
      "outputs": []
    },
    {
      "cell_type": "code",
      "source": [
        "#impresion de resultados\n",
        "print(\"pares: \",pares , \" total: \", len(pares))\n",
        "print(\"impares: \", impares, \"total \", len(impares))"
      ],
      "metadata": {
        "colab": {
          "base_uri": "https://localhost:8080/"
        },
        "id": "RQeAW_fPj_0j",
        "outputId": "a8405f8e-b192-4c4d-cd35-e9f73133bc3f"
      },
      "execution_count": null,
      "outputs": [
        {
          "output_type": "stream",
          "name": "stdout",
          "text": [
            "pares:  [10, 36, 98, 34, 58]  total:  5\n",
            "impares:  [25, 77, 89] total  3\n"
          ]
        }
      ]
    },
    {
      "cell_type": "code",
      "source": [
        "#Funcion suma de los números pares\n",
        "def sumaPares(lista):\n",
        "  suma = 0\n",
        "  for numero in lista:\n",
        "    suma += numero\n",
        "  return suma"
      ],
      "metadata": {
        "id": "GJVERtT2mSWm"
      },
      "execution_count": null,
      "outputs": []
    },
    {
      "cell_type": "code",
      "source": [
        "#impresión de la suma\n",
        "print(\"Suma de pares\" , sumaPares(pares))\n",
        "print(\"Suma de impares\" , sumaPares(impares))"
      ],
      "metadata": {
        "colab": {
          "base_uri": "https://localhost:8080/"
        },
        "id": "DBdigf6JnRt9",
        "outputId": "6d9fb6f9-37cf-46be-e07d-08b65098fd71"
      },
      "execution_count": null,
      "outputs": [
        {
          "output_type": "stream",
          "name": "stdout",
          "text": [
            "Suma de pares 236\n",
            "Suma de impares 191\n"
          ]
        }
      ]
    },
    {
      "cell_type": "markdown",
      "source": [
        "."
      ],
      "metadata": {
        "id": "WnKtaBAJ5O0G"
      }
    },
    {
      "cell_type": "markdown",
      "source": [
        "\n",
        "#                       *Practica 2 Taller Automotriz *\n",
        "\n",
        "\n",
        "\n",
        "\n"
      ],
      "metadata": {
        "id": "I9vWxri23rBN"
      }
    },
    {
      "cell_type": "code",
      "source": [
        "#Se crea la lista Productos\n",
        "productos = ['bujia','aceite','aceite','aceite']"
      ],
      "metadata": {
        "id": "hRxaReNS5PZ0"
      },
      "execution_count": 1,
      "outputs": []
    },
    {
      "cell_type": "code",
      "source": [
        "#Se crea la lista Compra\n",
        "compra = []"
      ],
      "metadata": {
        "id": "tsOIvNTB6Fh_"
      },
      "execution_count": 2,
      "outputs": []
    },
    {
      "cell_type": "markdown",
      "source": [
        "Funciones para el menú"
      ],
      "metadata": {
        "id": "dkTdTPXY6IPT"
      }
    },
    {
      "cell_type": "code",
      "source": [
        "#función agregar\n",
        "def agregar():\n",
        "    producto = input(\"Ingresa el nombre del artículo: \")  # Pide el nombre del artículo\n",
        "    productos.append(producto)  # Agrega el artículo a la lista de productos\n",
        "    print(f\"'{producto}' artículo agregado exitosamente.\")"
      ],
      "metadata": {
        "id": "li-Eh9qW6LJc"
      },
      "execution_count": 3,
      "outputs": []
    },
    {
      "cell_type": "code",
      "source": [
        "#funcion eliminar\n",
        "def eliminar():\n",
        "    if productos:\n",
        "        producto = input(\"Artículo a eliminar: \")\n",
        "        if producto in productos:\n",
        "            productos.remove(producto)\n",
        "            print(f\"'{producto}' artículo eliminado exitosamente\")\n",
        "        else:\n",
        "            print(f\"El artículo '{producto}' no disponible.\")\n",
        "    else:\n",
        "        print(\"La lista está vacía.\")"
      ],
      "metadata": {
        "id": "YOGQoKpl6Pkc"
      },
      "execution_count": 4,
      "outputs": []
    },
    {
      "cell_type": "code",
      "source": [
        "# Función para contar productos duplicados\n",
        "def consultar():\n",
        "    if productos:\n",
        "        print(\"Lista de productos existentes y su cantidad:\")\n",
        "        # Crear un set para mostrar cada producto solo una vez\n",
        "        productos_unicos = set(productos)\n",
        "        for producto in productos_unicos:\n",
        "            cantidad = productos.count(producto)  # Contar cuántas veces aparece cada producto\n",
        "            print(f\"{producto}: {cantidad} unidades\")\n",
        "    else:\n",
        "        print(\"La lista de productos está vacía.\")"
      ],
      "metadata": {
        "id": "Waa1-j1J6T9h"
      },
      "execution_count": 5,
      "outputs": []
    },
    {
      "cell_type": "markdown",
      "source": [
        "Se debe de conectar con la otra lista de productos para que sepa cuantos existen y se agreguen a la lista de compras"
      ],
      "metadata": {
        "id": "XUwPmUua6c7r"
      }
    },
    {
      "cell_type": "code",
      "source": [
        "#funcion comprar\n",
        "def comprar():\n",
        "    # Extiende la lista 'compra' con los productos de la lista 'productos'\n",
        "    compra.extend(productos)\n",
        "\n",
        "    # Verificamos si la lista 'productos' tiene elementos\n",
        "    if productos:\n",
        "        # Usamos un conjunto para evitar duplicados y recorrer solo los productos únicos\n",
        "        m3 = {producto for producto in set(productos) if productos.count(producto) < 3}\n",
        "\n",
        "        # Imprimimos los productos que aparecen menos de 3 veces\n",
        "        if m3:\n",
        "            print(\"Productos que aparecen menos de 3 veces:\")\n",
        "            for producto in m3:\n",
        "                print(f\"{producto}: {productos.count(producto)} veces\")\n",
        "        else:\n",
        "            print(\"No hay productos que aparezcan menos de 3 veces.\")\n",
        "    else:\n",
        "        print(\"La lista de productos está vacía.\")\n"
      ],
      "metadata": {
        "id": "jkbj7KJw6hsT"
      },
      "execution_count": 6,
      "outputs": []
    },
    {
      "cell_type": "code",
      "source": [
        "#Funcion salir\n",
        "def salir():\n",
        "  print('Fin del programa')"
      ],
      "metadata": {
        "id": "4RaM9qKH6tuL"
      },
      "execution_count": 7,
      "outputs": []
    },
    {
      "cell_type": "code",
      "source": [
        "#se crea la lista de opciones\n",
        "opciones = {\n",
        "   '1': ('agregar', agregar),\n",
        "   '2': ('eliminar', eliminar),\n",
        "   '3': ('consultar', consultar),\n",
        "   '4': ('comprar', comprar),\n",
        "   '5': ('salir', salir)\n",
        "}"
      ],
      "metadata": {
        "id": "slH8wHcd6wXY"
      },
      "execution_count": 8,
      "outputs": []
    },
    {
      "cell_type": "code",
      "source": [
        "#Menú funcionando\n",
        "print(\"\\n\\n\\nBienvenido, ¿qué desea realizar?\")\n",
        "while True:\n",
        "    for clave, valor in opciones.items():\n",
        "        print(f\"{clave}: {valor[0]}\")\n",
        "\n",
        "    seleccion = input(\"\\nSelecciona una opción: \")\n",
        "\n",
        "    if seleccion in opciones:\n",
        "        opciones[seleccion][1]()  # Ejecuta la función correspondiente\n",
        "        if seleccion == '5':  # Salir del bucle si se selecciona la opción 5\n",
        "            break\n",
        "    else:\n",
        "        print(\"Opción no válida, intenta de nuevo.\")"
      ],
      "metadata": {
        "colab": {
          "base_uri": "https://localhost:8080/"
        },
        "id": "Qvx8X2_j61B6",
        "outputId": "7ca40f1e-06c9-4cd1-e687-90fb1ff5c416"
      },
      "execution_count": 9,
      "outputs": [
        {
          "output_type": "stream",
          "name": "stdout",
          "text": [
            "\n",
            "\n",
            "\n",
            "Bienvenido, ¿qué desea realizar?\n",
            "1: agregar\n",
            "2: eliminar\n",
            "3: consultar\n",
            "4: comprar\n",
            "5: salir\n",
            "\n",
            "Selecciona una opción: 1\n",
            "Ingresa el nombre del artículo: frijol\n",
            "'frijol' artículo agregado exitosamente.\n",
            "1: agregar\n",
            "2: eliminar\n",
            "3: consultar\n",
            "4: comprar\n",
            "5: salir\n",
            "\n",
            "Selecciona una opción: 3\n",
            "Lista de productos existentes y su cantidad:\n",
            "bujia: 1 unidades\n",
            "aceite: 3 unidades\n",
            "frijol: 1 unidades\n",
            "1: agregar\n",
            "2: eliminar\n",
            "3: consultar\n",
            "4: comprar\n",
            "5: salir\n",
            "\n",
            "Selecciona una opción: 2\n",
            "Artículo a eliminar: frijol\n",
            "'frijol' artículo eliminado exitosamente\n",
            "1: agregar\n",
            "2: eliminar\n",
            "3: consultar\n",
            "4: comprar\n",
            "5: salir\n",
            "\n",
            "Selecciona una opción: 3\n",
            "Lista de productos existentes y su cantidad:\n",
            "bujia: 1 unidades\n",
            "aceite: 3 unidades\n",
            "1: agregar\n",
            "2: eliminar\n",
            "3: consultar\n",
            "4: comprar\n",
            "5: salir\n",
            "\n",
            "Selecciona una opción: 4\n",
            "Productos que aparecen menos de 3 veces:\n",
            "bujia: 1 veces\n",
            "1: agregar\n",
            "2: eliminar\n",
            "3: consultar\n",
            "4: comprar\n",
            "5: salir\n",
            "\n",
            "Selecciona una opción: 5\n",
            "Fin del programa\n"
          ]
        }
      ]
    }
  ]
}