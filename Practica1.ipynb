{
  "nbformat": 4,
  "nbformat_minor": 0,
  "metadata": {
    "colab": {
      "provenance": [],
      "toc_visible": true,
      "authorship_tag": "ABX9TyN/PRKl5vJTkiKIcvyd5qmv",
      "include_colab_link": true
    },
    "kernelspec": {
      "name": "python3",
      "display_name": "Python 3"
    },
    "language_info": {
      "name": "python"
    }
  },
  "cells": [
    {
      "cell_type": "markdown",
      "metadata": {
        "id": "view-in-github",
        "colab_type": "text"
      },
      "source": [
        "<a href=\"https://colab.research.google.com/github/WendyParra/Inteligencia-Artificial-Parra/blob/main/Practica1.ipynb\" target=\"_parent\"><img src=\"https://colab.research.google.com/assets/colab-badge.svg\" alt=\"Open In Colab\"/></a>"
      ]
    },
    {
      "cell_type": "code",
      "execution_count": null,
      "metadata": {
        "id": "SxxXTZRyVZhw"
      },
      "outputs": [],
      "source": []
    },
    {
      "cell_type": "markdown",
      "source": [
        "# Evaluación Diagnóstica"
      ],
      "metadata": {
        "id": "KBZRUm9YgnOc"
      }
    },
    {
      "cell_type": "markdown",
      "source": [
        "1.- ¿Cómo se declara una lista en Phyton?"
      ],
      "metadata": {
        "id": "dgVl0CV0VjDt"
      }
    },
    {
      "cell_type": "code",
      "source": [
        "my_list=[1,2,3]\n",
        "print(my_list)"
      ],
      "metadata": {
        "colab": {
          "base_uri": "https://localhost:8080/"
        },
        "id": "Pf_LVbI2VphH",
        "outputId": "230b6ec6-23d8-47d8-bbd8-32dcf2e151af"
      },
      "execution_count": null,
      "outputs": [
        {
          "output_type": "stream",
          "name": "stdout",
          "text": [
            "[1, 2, 3]\n"
          ]
        }
      ]
    },
    {
      "cell_type": "markdown",
      "source": [
        "2.- ¿Qué función se usa para conocer el número de elementos en una lista?"
      ],
      "metadata": {
        "id": "PPwcDSnvV9Ap"
      }
    },
    {
      "cell_type": "code",
      "source": [
        "len(my_list)"
      ],
      "metadata": {
        "colab": {
          "base_uri": "https://localhost:8080/"
        },
        "id": "tRRBkTzTWKUQ",
        "outputId": "c1acdbe8-a8de-4996-bb8c-149f43ac9415"
      },
      "execution_count": null,
      "outputs": [
        {
          "output_type": "execute_result",
          "data": {
            "text/plain": [
              "3"
            ]
          },
          "metadata": {},
          "execution_count": 4
        }
      ]
    },
    {
      "cell_type": "markdown",
      "source": [
        "3.- ¿Qué resultado obtendremos al ejecutar el siguiente código?"
      ],
      "metadata": {
        "id": "Wtnri1IjWgge"
      }
    },
    {
      "cell_type": "code",
      "source": [
        "a=[1,2,3,4,5]\n",
        "print(a[::-1])"
      ],
      "metadata": {
        "colab": {
          "base_uri": "https://localhost:8080/"
        },
        "id": "N3oxtKM7WyF3",
        "outputId": "aa9c1ecd-d402-4b75-a13a-4097f21e746f"
      },
      "execution_count": null,
      "outputs": [
        {
          "output_type": "stream",
          "name": "stdout",
          "text": [
            "[5, 4, 3, 2, 1]\n"
          ]
        }
      ]
    },
    {
      "cell_type": "markdown",
      "source": [
        "4.- ¿Cúal es el resultado de la siguiente expresión?\n"
      ],
      "metadata": {
        "id": "3i7cVPjNabp9"
      }
    },
    {
      "cell_type": "code",
      "source": [
        "print(3*\"5\"+2)"
      ],
      "metadata": {
        "colab": {
          "base_uri": "https://localhost:8080/",
          "height": 141
        },
        "id": "4mShq4TGXzOK",
        "outputId": "f8ecc931-fd71-4ea5-e264-08cf1756663d"
      },
      "execution_count": null,
      "outputs": [
        {
          "output_type": "error",
          "ename": "TypeError",
          "evalue": "can only concatenate str (not \"int\") to str",
          "traceback": [
            "\u001b[0;31m---------------------------------------------------------------------------\u001b[0m",
            "\u001b[0;31mTypeError\u001b[0m                                 Traceback (most recent call last)",
            "\u001b[0;32m<ipython-input-6-ecf93d8422a1>\u001b[0m in \u001b[0;36m<cell line: 1>\u001b[0;34m()\u001b[0m\n\u001b[0;32m----> 1\u001b[0;31m \u001b[0mprint\u001b[0m\u001b[0;34m(\u001b[0m\u001b[0;36m3\u001b[0m\u001b[0;34m*\u001b[0m\u001b[0;34m\"5\"\u001b[0m\u001b[0;34m+\u001b[0m\u001b[0;36m2\u001b[0m\u001b[0;34m)\u001b[0m\u001b[0;34m\u001b[0m\u001b[0;34m\u001b[0m\u001b[0m\n\u001b[0m",
            "\u001b[0;31mTypeError\u001b[0m: can only concatenate str (not \"int\") to str"
          ]
        }
      ]
    },
    {
      "cell_type": "markdown",
      "source": [
        "5.- ¿Qué salida generará el siguiente código?"
      ],
      "metadata": {
        "id": "LdJY3Q0XX8XK"
      }
    },
    {
      "cell_type": "code",
      "source": [
        "def foo (x,y=[]): #def es describir función, espera dos parametros uno en X y otro en Y donde y es una lista donde se declara vacio\n",
        "  y.append(x) #.append da el valor de X a la lista\n",
        "  return y #retorna el valor de Y\n",
        "\n",
        "print(foo(1))\n",
        "print(foo(2,[]))\n",
        "print(foo(3))"
      ],
      "metadata": {
        "colab": {
          "base_uri": "https://localhost:8080/"
        },
        "id": "tzjTAmhqYIJz",
        "outputId": "d680133a-4826-486b-cb6a-adb40bde8f0f"
      },
      "execution_count": null,
      "outputs": [
        {
          "output_type": "stream",
          "name": "stdout",
          "text": [
            "[1]\n",
            "[2]\n",
            "[1, 3]\n"
          ]
        }
      ]
    },
    {
      "cell_type": "markdown",
      "source": [
        "6.- ¿Qué resultado obtendremos al ejecutar el siguiente código?"
      ],
      "metadata": {
        "id": "ewNddtNhYptp"
      }
    },
    {
      "cell_type": "code",
      "source": [
        "def multiply_list(numbers,factor):\n",
        "  result=[]\n",
        "  for number in numbers:\n",
        "    for number in numbers:\n",
        "        result.append(number*factor)\n",
        "    return result\n",
        "\n",
        "my_list=[1,2,3]\n",
        "output=multiply_list(my_list,2)\n",
        "print(output)"
      ],
      "metadata": {
        "colab": {
          "base_uri": "https://localhost:8080/"
        },
        "id": "SzOtuNqGYz4G",
        "outputId": "0f499c79-5339-4f60-e5c1-bf5df185140a"
      },
      "execution_count": null,
      "outputs": [
        {
          "output_type": "stream",
          "name": "stdout",
          "text": [
            "[2, 4, 6]\n"
          ]
        }
      ]
    },
    {
      "cell_type": "code",
      "source": [],
      "metadata": {
        "id": "_6z1TvB1ZNO-"
      },
      "execution_count": null,
      "outputs": []
    },
    {
      "cell_type": "code",
      "source": [],
      "metadata": {
        "id": "exnGd2q5hAyY"
      },
      "execution_count": null,
      "outputs": []
    },
    {
      "cell_type": "markdown",
      "source": [
        "# Práctica en phyton"
      ],
      "metadata": {
        "id": "w5hUjFmYg6M2"
      }
    },
    {
      "cell_type": "markdown",
      "source": [
        "Clasificación de una lista de números pares e impares"
      ],
      "metadata": {
        "id": "xSGK8unAhELH"
      }
    },
    {
      "cell_type": "code",
      "source": [
        "#declaración de variables\n",
        "numeros=[10,25,36,98,77,34,89,58]\n",
        "pares=[]\n",
        "impares = []\n",
        "#print(type[numeros[0]])     funcion type es para ver que tipo de dato es la variable y se imprime"
      ],
      "metadata": {
        "id": "lJa2rtErhf7V"
      },
      "execution_count": null,
      "outputs": []
    },
    {
      "cell_type": "code",
      "source": [
        "#ciclo for para recorrer la lista\n",
        "for numero in numeros:\n",
        "  if numero % 2 == 0:\n",
        "    #pares[0] = numeros[0]; en java, c, c# \"o es el valor de 'i' \"\n",
        "    pares.append(numero)\n",
        "  else:\n",
        "    impares.append(numero)"
      ],
      "metadata": {
        "id": "pa3nbEO3ikg2"
      },
      "execution_count": null,
      "outputs": []
    },
    {
      "cell_type": "code",
      "source": [
        "#impresion de resultados\n",
        "print(\"pares: \",pares , \" total: \", len(pares))\n",
        "print(\"impares: \", impares, \"total \", len(impares))"
      ],
      "metadata": {
        "colab": {
          "base_uri": "https://localhost:8080/"
        },
        "id": "RQeAW_fPj_0j",
        "outputId": "a8405f8e-b192-4c4d-cd35-e9f73133bc3f"
      },
      "execution_count": 19,
      "outputs": [
        {
          "output_type": "stream",
          "name": "stdout",
          "text": [
            "pares:  [10, 36, 98, 34, 58]  total:  5\n",
            "impares:  [25, 77, 89] total  3\n"
          ]
        }
      ]
    },
    {
      "cell_type": "code",
      "source": [
        "#Funcion suma de los números pares\n",
        "def sumaPares(lista):\n",
        "  suma = 0\n",
        "  for numero in lista:\n",
        "    suma += numero\n",
        "  return suma"
      ],
      "metadata": {
        "id": "GJVERtT2mSWm"
      },
      "execution_count": 23,
      "outputs": []
    },
    {
      "cell_type": "code",
      "source": [
        "#impresión de la suma\n",
        "print(\"Suma de pares\" , sumaPares(pares))\n",
        "print(\"Suma de impares\" , sumaPares(impares))"
      ],
      "metadata": {
        "colab": {
          "base_uri": "https://localhost:8080/"
        },
        "id": "DBdigf6JnRt9",
        "outputId": "6d9fb6f9-37cf-46be-e07d-08b65098fd71"
      },
      "execution_count": 25,
      "outputs": [
        {
          "output_type": "stream",
          "name": "stdout",
          "text": [
            "Suma de pares 236\n",
            "Suma de impares 191\n"
          ]
        }
      ]
    }
  ]
}