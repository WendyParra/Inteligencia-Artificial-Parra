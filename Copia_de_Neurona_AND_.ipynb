{
  "nbformat": 4,
  "nbformat_minor": 0,
  "metadata": {
    "colab": {
      "provenance": [],
      "authorship_tag": "ABX9TyNntOjGammYA46+kVA2tJbO",
      "include_colab_link": true
    },
    "kernelspec": {
      "name": "python3",
      "display_name": "Python 3"
    },
    "language_info": {
      "name": "python"
    }
  },
  "cells": [
    {
      "cell_type": "markdown",
      "metadata": {
        "id": "view-in-github",
        "colab_type": "text"
      },
      "source": [
        "<a href=\"https://colab.research.google.com/github/WendyParra/Inteligencia-Artificial-Parra/blob/main/Copia_de_Neurona_AND_.ipynb\" target=\"_parent\"><img src=\"https://colab.research.google.com/assets/colab-badge.svg\" alt=\"Open In Colab\"/></a>"
      ]
    },
    {
      "cell_type": "markdown",
      "source": [
        "#neurona de aprendizaje compuerta AND\n",
        "#00 -> 0\n",
        "#01 -> 0\n",
        "#10 -> 0\n",
        "#11 -> 1"
      ],
      "metadata": {
        "id": "QmVFXVJYiIMn"
      }
    },
    {
      "cell_type": "code",
      "execution_count": null,
      "metadata": {
        "id": "Bhhijrvkh8g3"
      },
      "outputs": [],
      "source": [
        "def valores():\n",
        "    # Recibir valores\n",
        "    x1 = int(input('Ingrese X0 (0 o 1): '))  # Recibir  X0\n",
        "    x2 = int(input('Ingrese X1 (0 o 1): '))  # Recibir  X1\n",
        "    x = [x1, x2]  # Guardar valores\n",
        "    w = [1, 1]  # Pesos para las dos compuertas\n",
        "\n",
        "    # Compuerta AND\n",
        "    s_and = -1.5\n",
        "    for i in range(2):\n",
        "        s_and = s_and + x[i] * w[i]\n",
        "    y_and = 1 if s_and >= 0 else 0\n",
        "    print(f\"\\n{x[0]} AND {x[1]} = {y_and}\")"
      ]
    },
    {
      "cell_type": "code",
      "source": [
        "#Funcion salir\n",
        "def salir():\n",
        "  print('Fin del programa')"
      ],
      "metadata": {
        "id": "vfenT_imk-R-"
      },
      "execution_count": null,
      "outputs": []
    },
    {
      "cell_type": "code",
      "source": [
        "#se crea la lista de opciones\n",
        "opciones = {\n",
        "   '1': ('agregar nuevo dato', valores),\n",
        "   '2': ('salir', salir)\n",
        "}"
      ],
      "metadata": {
        "id": "OgtjqPZzk-5k"
      },
      "execution_count": null,
      "outputs": []
    },
    {
      "cell_type": "code",
      "source": [
        "#Menú funcionando\n",
        "print(\"\\n\\n\\nBienvenido, ¿qué desea realizar?\")\n",
        "while True:\n",
        "    for clave, valor in opciones.items():\n",
        "        print(f\"{clave}: {valor[0]}\")\n",
        "\n",
        "    seleccion = input(\"\\nSelecciona una opción: \")\n",
        "\n",
        "    if seleccion in opciones:\n",
        "        opciones[seleccion][1]()  # Ejecuta la función correspondiente\n",
        "        if seleccion == '2':  # salir del programa\n",
        "            break\n",
        "    else:\n",
        "        print(\"Opción no válida, intenta de nuevo.\")"
      ],
      "metadata": {
        "colab": {
          "base_uri": "https://localhost:8080/"
        },
        "id": "dFkAiUWDlDsc",
        "outputId": "ddc522da-32b9-460b-bc64-86fa8ad13f76"
      },
      "execution_count": null,
      "outputs": [
        {
          "output_type": "stream",
          "name": "stdout",
          "text": [
            "\n",
            "\n",
            "\n",
            "Bienvenido, ¿qué desea realizar?\n",
            "1: agregar nuevo dato\n",
            "2: salir\n",
            "\n",
            "Selecciona una opción: 1\n",
            "Ingrese X0 (0 o 1): 0\n",
            "Ingrese X1 (0 o 1): 0\n",
            "\n",
            "0 AND 0 = 0\n",
            "1: agregar nuevo dato\n",
            "2: salir\n",
            "\n",
            "Selecciona una opción: 1\n",
            "Ingrese X0 (0 o 1): 0\n",
            "Ingrese X1 (0 o 1): 1\n",
            "\n",
            "0 AND 1 = 0\n",
            "1: agregar nuevo dato\n",
            "2: salir\n",
            "\n",
            "Selecciona una opción: 1\n",
            "Ingrese X0 (0 o 1): 1\n",
            "Ingrese X1 (0 o 1): 0\n",
            "\n",
            "1 AND 0 = 0\n",
            "1: agregar nuevo dato\n",
            "2: salir\n",
            "\n",
            "Selecciona una opción: 1\n",
            "Ingrese X0 (0 o 1): 1\n",
            "Ingrese X1 (0 o 1): 1\n",
            "\n",
            "1 AND 1 = 1\n",
            "1: agregar nuevo dato\n",
            "2: salir\n",
            "\n",
            "Selecciona una opción: 2\n",
            "Fin del programa\n"
          ]
        }
      ]
    }
  ]
}