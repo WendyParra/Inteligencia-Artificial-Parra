{
  "nbformat": 4,
  "nbformat_minor": 0,
  "metadata": {
    "colab": {
      "provenance": [],
      "authorship_tag": "ABX9TyPANgcAbMMsY9yzQpWGHyxu",
      "include_colab_link": true
    },
    "kernelspec": {
      "name": "python3",
      "display_name": "Python 3"
    },
    "language_info": {
      "name": "python"
    }
  },
  "cells": [
    {
      "cell_type": "markdown",
      "metadata": {
        "id": "view-in-github",
        "colab_type": "text"
      },
      "source": [
        "<a href=\"https://colab.research.google.com/github/WendyParra/Inteligencia-Artificial-Parra/blob/main/Evaluaci%C3%B3n_WENDY_PARRA_U1.ipynb\" target=\"_parent\"><img src=\"https://colab.research.google.com/assets/colab-badge.svg\" alt=\"Open In Colab\"/></a>"
      ]
    },
    {
      "cell_type": "markdown",
      "source": [
        "#Crear un notebook en colab a partir del programa base de la compuerta AND Modificar para que funcione con las dos compuertas AND y OR"
      ],
      "metadata": {
        "id": "lhO_s1x1EX-E"
      }
    },
    {
      "cell_type": "code",
      "source": [
        "def valores(): # se crea la función valores\n",
        "    # Recibir los valores\n",
        "    x1 = int(input('Ingrese X0 (0 o 1): '))  # Recibir X0\n",
        "    x2 = int(input('Ingrese X1 (0 o 1): '))  # Recibir X1\n",
        "    x = [x1, x2]  # Guardar valores\n",
        "    w = [1, 1]  # Pesos para las dos compuertas\n",
        "\n",
        "    # Compuerta AND\n",
        "    s_and = -1.5  # valor fijo\n",
        "    for i in range(2): #inicio de bucle para preguntar x0 y x1\n",
        "        s_and = s_and + x[i] * w[i] # realizar operación almacenada en s_and\n",
        "    y_and = 1 if s_and >= 0 else 0 #valida si es mayor a uno o cero\n",
        "    print(x[0],'AND',x[0], '=',y_and) # Impresión ya validada\n",
        "\n",
        "    # Compuerta OR\n",
        "    s_or = -0.5  # valor fijo\n",
        "    for i in range(2):#inicio de bucle para preguntar x0 y x1\n",
        "        s_or = s_or + x[i] * w[i]# realizar operación almacenada en s_or\n",
        "    y_or = 1 if s_or >= 0 else 0 #valida si es mayor a uno o cero\n",
        "    print(x[0],'AND',x[0], '=',y_or) # Impresión ya validada\n",
        "    print('\\n')#salto de linea\n"
      ],
      "metadata": {
        "id": "f4vTljXhGQEy"
      },
      "execution_count": null,
      "outputs": []
    },
    {
      "cell_type": "markdown",
      "source": [
        "Se crea el menú de opciones"
      ],
      "metadata": {
        "id": "DyJu6VzjHCKG"
      }
    },
    {
      "cell_type": "code",
      "source": [
        "#Funcion salir\n",
        "def salir(): #se defina la función salir del programa\n",
        "  print('Fin del programa') #se escribe el mensaje que aparecerá cuando se seleccione esta opción"
      ],
      "metadata": {
        "id": "txNGyV2RHD-h"
      },
      "execution_count": null,
      "outputs": []
    },
    {
      "cell_type": "code",
      "source": [
        "#se crea la lista de opciones\n",
        "opciones = {\n",
        "   '1': ('agregar nuevo dato', valores), #se da el nombre y llama a la función\n",
        "   '2': ('salir', salir) #se le otroga el nombre que aparecerá y llama a la función\n",
        "}"
      ],
      "metadata": {
        "id": "JiRz1da9HhhI"
      },
      "execution_count": null,
      "outputs": []
    },
    {
      "cell_type": "code",
      "source": [
        "#Menú funcionando\n",
        "print(\"\\n\\n\\nBienvenido, ¿qué desea realizar?\") #se lansa el mensaje que aparecerá cuando se ejecute\n",
        "while True: # se incia el bucle el cual será interrumpido hasta que se diga\n",
        "    for clave, valor in opciones.items():#toma el valor para ver cual de las oçiones a seleccionado\n",
        "        print(f\"{clave}: {valor[0]}\") #muestra la opción que se seleccionó\n",
        "\n",
        "    seleccion = input(\"\\nSelecciona una opción: \") # se lansa el mensaje\n",
        "\n",
        "    if seleccion in opciones: #inicia dentro de el menú opciones\n",
        "        opciones[seleccion][1]()  # Ejecuta la función correspondiente\n",
        "        if seleccion == '2':  # salir del programa\n",
        "            break # parar\n",
        "    else:\n",
        "        print(\"Opción no válida, intenta de nuevo.\")# mensaje de opción no valida"
      ],
      "metadata": {
        "colab": {
          "base_uri": "https://localhost:8080/"
        },
        "id": "CG9OoPakHno8",
        "outputId": "cba4162a-284f-4b54-e061-06db445a4abb"
      },
      "execution_count": null,
      "outputs": [
        {
          "output_type": "stream",
          "name": "stdout",
          "text": [
            "\n",
            "\n",
            "\n",
            "Bienvenido, ¿qué desea realizar?\n",
            "1: agregar nuevo dato\n",
            "2: salir\n",
            "\n",
            "Selecciona una opción: 1\n",
            "Ingrese X0 (0 o 1): 0\n",
            "Ingrese X1 (0 o 1): 0\n",
            "\n",
            "0 AND 0 = 0\n",
            "0 OR 0 = 0\n",
            "\n",
            "\n",
            "1: agregar nuevo dato\n",
            "2: salir\n",
            "\n",
            "Selecciona una opción: 1\n",
            "Ingrese X0 (0 o 1): 0\n",
            "Ingrese X1 (0 o 1): 1\n",
            "\n",
            "0 AND 1 = 0\n",
            "0 OR 1 = 1\n",
            "\n",
            "\n",
            "1: agregar nuevo dato\n",
            "2: salir\n",
            "\n",
            "Selecciona una opción: 1\n",
            "Ingrese X0 (0 o 1): 1\n",
            "Ingrese X1 (0 o 1): 0\n",
            "\n",
            "1 AND 0 = 0\n",
            "1 OR 0 = 1\n",
            "\n",
            "\n",
            "1: agregar nuevo dato\n",
            "2: salir\n",
            "\n",
            "Selecciona una opción: 1\n",
            "Ingrese X0 (0 o 1): 1\n",
            "Ingrese X1 (0 o 1): 1\n",
            "\n",
            "1 AND 1 = 1\n",
            "1 OR 1 = 1\n",
            "\n",
            "\n",
            "1: agregar nuevo dato\n",
            "2: salir\n",
            "\n",
            "Selecciona una opción: 2\n",
            "Fin del programa\n"
          ]
        }
      ]
    }
  ]
}