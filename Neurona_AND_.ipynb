{
  "nbformat": 4,
  "nbformat_minor": 0,
  "metadata": {
    "colab": {
      "provenance": [],
      "authorship_tag": "ABX9TyNO915aDgPy8JXDA27OafWs",
      "include_colab_link": true
    },
    "kernelspec": {
      "name": "python3",
      "display_name": "Python 3"
    },
    "language_info": {
      "name": "python"
    }
  },
  "cells": [
    {
      "cell_type": "markdown",
      "metadata": {
        "id": "view-in-github",
        "colab_type": "text"
      },
      "source": [
        "<a href=\"https://colab.research.google.com/github/WendyParra/Inteligencia-Artificial-Parra/blob/main/Neurona_AND_.ipynb\" target=\"_parent\"><img src=\"https://colab.research.google.com/assets/colab-badge.svg\" alt=\"Open In Colab\"/></a>"
      ]
    },
    {
      "cell_type": "markdown",
      "source": [
        "#neurona de aprendizaje compuerta AND\n",
        "#00 -> 0\n",
        "#01 -> 0\n",
        "#10 -> 0\n",
        "#11 -> 1"
      ],
      "metadata": {
        "id": "QmVFXVJYiIMn"
      }
    },
    {
      "cell_type": "code",
      "execution_count": 1,
      "metadata": {
        "id": "Bhhijrvkh8g3"
      },
      "outputs": [],
      "source": [
        "def valores(): # se crea la función valores\n",
        "    # Recibir los valores\n",
        "    x1 = int(input('Ingrese X0 (0 o 1): '))  # Recibir X0\n",
        "    x2 = int(input('Ingrese X1 (0 o 1): '))  # Recibir X1\n",
        "    x = [x1, x2]  # Guardar valores\n",
        "    w = [1, 1]  # Pesos para las dos compuertas\n",
        "\n",
        "    # Compuerta AND\n",
        "    s_and = -1.5  # valor fijo\n",
        "    for i in range(2): #inicio de bucle para preguntar x0 y x1\n",
        "        s_and = s_and + x[i] * w[i] # realizar operación almacenada en s_and\n",
        "    y_and = 1 if s_and >= 0 else 0 #valida si es mayor a uno o cero\n",
        "    print(x[0],'AND',x[0], '=',y_and) # Impresión ya validada"
      ]
    },
    {
      "cell_type": "code",
      "source": [
        "#Funcion salir\n",
        "def salir():\n",
        "  print('Fin del programa')"
      ],
      "metadata": {
        "id": "vfenT_imk-R-"
      },
      "execution_count": 4,
      "outputs": []
    },
    {
      "cell_type": "code",
      "source": [
        "#se crea la lista de opciones\n",
        "opciones = {\n",
        "   '1': ('agregar nuevo dato', valores),\n",
        "   '2': ('salir', salir)\n",
        "}"
      ],
      "metadata": {
        "id": "OgtjqPZzk-5k"
      },
      "execution_count": 5,
      "outputs": []
    },
    {
      "cell_type": "code",
      "source": [
        "#Menú funcionando\n",
        "print(\"\\n\\n\\nBienvenido, ¿qué desea realizar?\") #se lansa el mensaje que aparecerá cuando se ejecute\n",
        "while True: # se incia el bucle el cual será interrumpido hasta que se diga\n",
        "    for clave, valor in opciones.items():#toma el valor para ver cual de las oçiones a seleccionado\n",
        "        print(f\"{clave}: {valor[0]}\") #muestra la opción que se seleccionó\n",
        "\n",
        "    seleccion = input(\"\\nSelecciona una opción: \") # se lansa el mensaje\n",
        "\n",
        "    if seleccion in opciones: #inicia dentro de el menú opciones\n",
        "        opciones[seleccion][1]()  # Ejecuta la función correspondiente\n",
        "        if seleccion == '2':  # salir del programa\n",
        "            break # parar\n",
        "    else:\n",
        "        print(\"Opción no válida, intenta de nuevo.\")# mensaje de opción no valida"
      ],
      "metadata": {
        "colab": {
          "base_uri": "https://localhost:8080/"
        },
        "id": "dFkAiUWDlDsc",
        "outputId": "f7917b4c-f4be-4ccf-ffb2-3d6222c87991"
      },
      "execution_count": 6,
      "outputs": [
        {
          "output_type": "stream",
          "name": "stdout",
          "text": [
            "\n",
            "\n",
            "\n",
            "Bienvenido, ¿qué desea realizar?\n",
            "1: agregar nuevo dato\n",
            "2: salir\n",
            "\n",
            "Selecciona una opción: 1\n",
            "Ingrese X0 (0 o 1): 0\n",
            "Ingrese X1 (0 o 1): 0\n",
            "0 AND 0 = 0\n",
            "1: agregar nuevo dato\n",
            "2: salir\n",
            "\n",
            "Selecciona una opción: 1\n",
            "Ingrese X0 (0 o 1): 0\n",
            "Ingrese X1 (0 o 1): 1\n",
            "0 AND 0 = 0\n",
            "1: agregar nuevo dato\n",
            "2: salir\n",
            "\n",
            "Selecciona una opción: 1\n",
            "Ingrese X0 (0 o 1): 1\n",
            "Ingrese X1 (0 o 1): 0\n",
            "1 AND 1 = 0\n",
            "1: agregar nuevo dato\n",
            "2: salir\n",
            "\n",
            "Selecciona una opción: 1\n",
            "Ingrese X0 (0 o 1): 1\n",
            "Ingrese X1 (0 o 1): 1\n",
            "1 AND 1 = 1\n",
            "1: agregar nuevo dato\n",
            "2: salir\n",
            "\n",
            "Selecciona una opción: 1\n",
            "Ingrese X0 (0 o 1): 1\n",
            "Ingrese X1 (0 o 1): 0\n",
            "1 AND 1 = 0\n",
            "1: agregar nuevo dato\n",
            "2: salir\n",
            "\n",
            "Selecciona una opción: 2\n",
            "Fin del programa\n"
          ]
        }
      ]
    }
  ]
}