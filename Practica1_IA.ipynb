{
  "nbformat": 4,
  "nbformat_minor": 0,
  "metadata": {
    "colab": {
      "provenance": [],
      "authorship_tag": "ABX9TyMgjku6g9+POQJ/E2a82FZ8",
      "include_colab_link": true
    },
    "kernelspec": {
      "name": "python3",
      "display_name": "Python 3"
    },
    "language_info": {
      "name": "python"
    }
  },
  "cells": [
    {
      "cell_type": "markdown",
      "metadata": {
        "id": "view-in-github",
        "colab_type": "text"
      },
      "source": [
        "<a href=\"https://colab.research.google.com/github/WendyParra/Inteligencia-Artificial-Parra/blob/main/Practica1_IA.ipynb\" target=\"_parent\"><img src=\"https://colab.research.google.com/assets/colab-badge.svg\" alt=\"Open In Colab\"/></a>"
      ]
    },
    {
      "cell_type": "markdown",
      "source": [
        "Un taller automotriz necesita llevar un control de su inventario de repuestos. Crea un programa que permita agregar, eliminar y consultar la cantidad de repuestos disponibles, así como realizar una compra cuando el inventario de un repuesto está bajo.\n",
        "\n",
        "\n"
      ],
      "metadata": {
        "id": "bYNOmTyIi9qn"
      }
    },
    {
      "cell_type": "code",
      "source": [
        "#Se crea la lista Productos\n",
        "productos = ['bujia','aceite','aceite','aceite']"
      ],
      "metadata": {
        "id": "vKg9b_hhCxLI"
      },
      "execution_count": 62,
      "outputs": []
    },
    {
      "cell_type": "code",
      "source": [
        "#Se crea la lista Compra\n",
        "compra = []"
      ],
      "metadata": {
        "id": "dBlY0OxODEM5"
      },
      "execution_count": 27,
      "outputs": []
    },
    {
      "cell_type": "markdown",
      "source": [
        "Funciones para el menú"
      ],
      "metadata": {
        "id": "op-e6BCHDNjk"
      }
    },
    {
      "cell_type": "code",
      "source": [
        "#función agregar\n",
        "def agregar():\n",
        "    producto = input(\"Ingresa el nombre del artículo: \")\n",
        "    productos.append(producto)\n",
        "    print(f\"'{producto}' artículo agregado exitosamente.\")"
      ],
      "metadata": {
        "id": "4T5m57voEQIe"
      },
      "execution_count": 28,
      "outputs": []
    },
    {
      "cell_type": "code",
      "source": [
        "#funcion eliminar\n",
        "def eliminar():\n",
        "    if productos:\n",
        "        producto = input(\"Artículo a eliminar: \")\n",
        "        if producto in productos:\n",
        "            productos.remove(producto)\n",
        "            print(f\"'{producto}' artículo eliminado exitosamente\")\n",
        "        else:\n",
        "            print(f\"El artículo '{producto}' no disponible.\")\n",
        "    else:\n",
        "        print(\"La lista está vacía.\")"
      ],
      "metadata": {
        "id": "Gq1sD3VGKDpq"
      },
      "execution_count": 31,
      "outputs": []
    },
    {
      "cell_type": "code",
      "source": [
        "# Función para contar productos duplicados\n",
        "def consultar():\n",
        "    if productos:\n",
        "        print(\"Lista de productos existentes y su cantidad:\")\n",
        "        # Crear un set para mostrar cada producto solo una vez\n",
        "        productos_unicos = set(productos)\n",
        "        for producto in productos_unicos:\n",
        "            cantidad = productos.count(producto)  # Contar cuántas veces aparece cada producto\n",
        "            print(f\"{producto}: {cantidad} unidades\")\n",
        "    else:\n",
        "        print(\"La lista de productos está vacía.\")"
      ],
      "metadata": {
        "id": "ipWzD9wwKT5Y"
      },
      "execution_count": 47,
      "outputs": []
    },
    {
      "cell_type": "markdown",
      "source": [
        "Se debe de conectar con la otra lista de productos para que sepa cuantos existen y se agreguen a la lista de compras"
      ],
      "metadata": {
        "id": "EtDafYJ1S9rL"
      }
    },
    {
      "cell_type": "code",
      "source": [
        "#funcion comprar\n",
        "def comprar():\n",
        "    # Filtra los productos que tienen menos de 3 unidades\n",
        "    productos = {producto: productos.count(producto)\n",
        "                             for producto in set(productos)\n",
        "                             if productos.count(producto) > 3}\n",
        "\n",
        "    if productos:\n",
        "        print(\"Productos con menos de 3 unidades:\")\n",
        "        for producto, cantidad in productos.items():\n",
        "            print(f\"{producto}: {cantidad} unidades\")\n",
        "    else:\n",
        "        print(\"Todos los productos tienen 3 o más unidades.\")"
      ],
      "metadata": {
        "id": "7pHxDjspKfwR"
      },
      "execution_count": 106,
      "outputs": []
    },
    {
      "cell_type": "code",
      "source": [
        "#Funcion salir\n",
        "def salir():\n",
        "  print('Fin del programa')"
      ],
      "metadata": {
        "id": "1LCuF1XDKrz6"
      },
      "execution_count": 30,
      "outputs": []
    },
    {
      "cell_type": "markdown",
      "source": [
        "Menú de opciones"
      ],
      "metadata": {
        "id": "O3j7-vRyNVQc"
      }
    },
    {
      "cell_type": "code",
      "source": [
        "#se crea la lista de opciones\n",
        "opciones = {\n",
        "   '1': ('agregar', agregar),\n",
        "   '2': ('eliminar', eliminar),\n",
        "   '3': ('consultar', consultar),\n",
        "   '4': ('comprar', comprar),\n",
        "   '5': ('salir', salir)\n",
        "}"
      ],
      "metadata": {
        "id": "37xDV4n2DUcb"
      },
      "execution_count": 101,
      "outputs": []
    },
    {
      "cell_type": "markdown",
      "source": [
        "Menú"
      ],
      "metadata": {
        "id": "iRFBXugrNY0Z"
      }
    },
    {
      "cell_type": "code",
      "source": [
        "#Menú funcionando\n",
        "print(\"\\n\\n\\nBienvenido que desea realizar\")\n",
        "while True:\n",
        "    for clave, valor in opciones.items():\n",
        "        print(f\"{clave}: {valor[0]}\")\n",
        "\n",
        "    seleccion = input(\"\\nSelecciona una opción: \")\n",
        "\n",
        "    if seleccion in opciones:\n",
        "        opciones[seleccion][1]()  # Ejecuta la función correspondiente\n",
        "        if seleccion == '5':  #cierre de bucle\n",
        "            break\n",
        "    else:\n",
        "        print(\"Opción no válida, intenta de nuevo.\")"
      ],
      "metadata": {
        "colab": {
          "base_uri": "https://localhost:8080/"
        },
        "id": "AsbpTQ4UJH9K",
        "outputId": "69ee091a-163a-4518-ebbd-e5a8567c5e7a"
      },
      "execution_count": 107,
      "outputs": [
        {
          "output_type": "stream",
          "name": "stdout",
          "text": [
            "\n",
            "\n",
            "\n",
            "Bienvenido que desea realizar\n",
            "1: agregar\n",
            "2: eliminar\n",
            "3: consultar\n",
            "4: comprar\n",
            "5: salir\n",
            "\n",
            "Selecciona una opción: 4\n",
            "Todos los productos tienen 3 o más unidades.\n",
            "1: agregar\n",
            "2: eliminar\n",
            "3: consultar\n",
            "4: comprar\n",
            "5: salir\n",
            "\n",
            "Selecciona una opción: 5\n",
            "Fin del programa\n"
          ]
        }
      ]
    }
  ]
}