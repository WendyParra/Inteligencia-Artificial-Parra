{
  "nbformat": 4,
  "nbformat_minor": 0,
  "metadata": {
    "colab": {
      "provenance": [],
      "authorship_tag": "ABX9TyM5E746Og/xqCNsW5Sf2e6a",
      "include_colab_link": true
    },
    "kernelspec": {
      "name": "python3",
      "display_name": "Python 3"
    },
    "language_info": {
      "name": "python"
    }
  },
  "cells": [
    {
      "cell_type": "markdown",
      "metadata": {
        "id": "view-in-github",
        "colab_type": "text"
      },
      "source": [
        "<a href=\"https://colab.research.google.com/github/WendyParra/Inteligencia-Artificial-Parra/blob/main/Evaluaci%C3%B3n_PARRA.ipynb\" target=\"_parent\"><img src=\"https://colab.research.google.com/assets/colab-badge.svg\" alt=\"Open In Colab\"/></a>"
      ]
    },
    {
      "cell_type": "markdown",
      "source": [
        "#Crear un notebook en colab a partir del programa base de la compuerta AND Modificar para que funcione con las dos compuertas AND y OR"
      ],
      "metadata": {
        "id": "lhO_s1x1EX-E"
      }
    },
    {
      "cell_type": "code",
      "source": [
        "def valores():\n",
        "    # Recibir los valores de entrada\n",
        "    x1 = int(input('Ingrese X0 (0 o 1): '))  # Recibir X0\n",
        "    x2 = int(input('Ingrese X1 (0 o 1): '))  # Recibir X1\n",
        "    x = [x1, x2]  # Guardar valores\n",
        "    w = [1, 1]  # Pesos para las dos compuertas\n",
        "\n",
        "    # Compuerta AND\n",
        "    s_and = -2  # valor fijo\n",
        "    for i in range(2):\n",
        "        s_and = s_and + x[i] * w[i]\n",
        "    y_and = 1 if s_and > 0 else 0  # Resultado de AND\n",
        "    print('\\n\\n')\n",
        "    print(f\"{x[0]} AND {x[1]} = {y_and}\")\n",
        "\n",
        "    # Compuerta OR\n",
        "    s_or = -1  # valor fijo\n",
        "    for i in range(2):\n",
        "        s_or = s_or + x[i] * w[i]\n",
        "    y_or = 1 if s_or > 0 else 0\n",
        "    print(f\"{x[0]} OR {x[1]} = {y_or}\")\n",
        "    print('\\n\\n')"
      ],
      "metadata": {
        "id": "f4vTljXhGQEy"
      },
      "execution_count": 46,
      "outputs": []
    },
    {
      "cell_type": "markdown",
      "source": [
        "Se crea el menú de opciones"
      ],
      "metadata": {
        "id": "DyJu6VzjHCKG"
      }
    },
    {
      "cell_type": "code",
      "source": [
        "#Funcion salir\n",
        "def salir():\n",
        "  print('Fin del programa')"
      ],
      "metadata": {
        "id": "txNGyV2RHD-h"
      },
      "execution_count": 43,
      "outputs": []
    },
    {
      "cell_type": "code",
      "source": [
        "#se crea la lista de opciones\n",
        "opciones = {\n",
        "   '1': ('agregar nuevo dato', valores),\n",
        "   '2': ('salir', salir)\n",
        "}"
      ],
      "metadata": {
        "id": "JiRz1da9HhhI"
      },
      "execution_count": 44,
      "outputs": []
    },
    {
      "cell_type": "code",
      "source": [
        "#Menú funcionando\n",
        "print(\"\\n\\n\\nBienvenido, ¿qué desea realizar?\")\n",
        "while True:\n",
        "    for clave, valor in opciones.items():\n",
        "        print(f\"{clave}: {valor[0]}\")\n",
        "\n",
        "    seleccion = input(\"\\nSelecciona una opción: \")\n",
        "\n",
        "    if seleccion in opciones:\n",
        "        opciones[seleccion][1]()  # Ejecuta la función correspondiente\n",
        "        if seleccion == '2':  # salir del programa\n",
        "            break\n",
        "    else:\n",
        "        print(\"Opción no válida, intenta de nuevo.\")"
      ],
      "metadata": {
        "colab": {
          "base_uri": "https://localhost:8080/"
        },
        "id": "CG9OoPakHno8",
        "outputId": "cf984607-1988-4dbd-ed63-9bc98004b991"
      },
      "execution_count": 48,
      "outputs": [
        {
          "output_type": "stream",
          "name": "stdout",
          "text": [
            "\n",
            "\n",
            "\n",
            "Bienvenido, ¿qué desea realizar?\n",
            "1: agregar nuevo dato\n",
            "2: salir\n",
            "\n",
            "Selecciona una opción: 1\n",
            "Ingrese X0 (0 o 1): 1\n",
            "Ingrese X1 (0 o 1): 0\n",
            "\n",
            "\n",
            "\n",
            "1 AND 0 = 0\n",
            "1 OR 0 = 1\n",
            "\n",
            "\n",
            "\n",
            "1: agregar nuevo dato\n",
            "2: salir\n",
            "\n",
            "Selecciona una opción: 1\n",
            "Ingrese X0 (0 o 1): 1\n",
            "Ingrese X1 (0 o 1): 1\n",
            "\n",
            "\n",
            "\n",
            "1 AND 1 = 1\n",
            "1 OR 1 = 1\n",
            "\n",
            "\n",
            "\n",
            "1: agregar nuevo dato\n",
            "2: salir\n",
            "\n",
            "Selecciona una opción: 0\n",
            "Opción no válida, intenta de nuevo.\n",
            "1: agregar nuevo dato\n",
            "2: salir\n",
            "\n",
            "Selecciona una opción: 0\n",
            "Opción no válida, intenta de nuevo.\n",
            "1: agregar nuevo dato\n",
            "2: salir\n",
            "\n",
            "Selecciona una opción: 1\n",
            "Ingrese X0 (0 o 1): 0\n",
            "Ingrese X1 (0 o 1): 0\n",
            "\n",
            "\n",
            "\n",
            "0 AND 0 = 0\n",
            "0 OR 0 = 0\n",
            "\n",
            "\n",
            "\n",
            "1: agregar nuevo dato\n",
            "2: salir\n",
            "\n",
            "Selecciona una opción: 2\n",
            "Fin del programa\n"
          ]
        }
      ]
    }
  ]
}