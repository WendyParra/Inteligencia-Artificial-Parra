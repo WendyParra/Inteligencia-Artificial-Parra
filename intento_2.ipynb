{
  "nbformat": 4,
  "nbformat_minor": 0,
  "metadata": {
    "colab": {
      "provenance": [],
      "authorship_tag": "ABX9TyNZj+gznRVjG3IllpfVXOMc",
      "include_colab_link": true
    },
    "kernelspec": {
      "name": "python3",
      "display_name": "Python 3"
    },
    "language_info": {
      "name": "python"
    }
  },
  "cells": [
    {
      "cell_type": "markdown",
      "metadata": {
        "id": "view-in-github",
        "colab_type": "text"
      },
      "source": [
        "<a href=\"https://colab.research.google.com/github/WendyParra/Inteligencia-Artificial-Parra/blob/main/intento_2.ipynb\" target=\"_parent\"><img src=\"https://colab.research.google.com/assets/colab-badge.svg\" alt=\"Open In Colab\"/></a>"
      ]
    },
    {
      "cell_type": "markdown",
      "source": [
        "Se crean las listas para los proyectos"
      ],
      "metadata": {
        "id": "jwFcMRojKqKP"
      }
    },
    {
      "cell_type": "code",
      "execution_count": 64,
      "metadata": {
        "id": "QurqLB1aKOmR"
      },
      "outputs": [],
      "source": [
        "#Proyecto 1\n",
        "proyecto1 = []"
      ]
    },
    {
      "cell_type": "code",
      "source": [
        "#Proyecto 2\n",
        "proyecto2 = []"
      ],
      "metadata": {
        "id": "fXng44eBKuz0"
      },
      "execution_count": 50,
      "outputs": []
    },
    {
      "cell_type": "code",
      "source": [
        "#Proyecti 3\n",
        "proyecto3 = []\n"
      ],
      "metadata": {
        "id": "0KdiijFRK0u1"
      },
      "execution_count": 51,
      "outputs": []
    },
    {
      "cell_type": "code",
      "source": [
        "#Esta lista es para que reciba a las de las otras 3 listas\n",
        "acumulado =[]"
      ],
      "metadata": {
        "id": "Rhs6VOmSXhHF"
      },
      "execution_count": 55,
      "outputs": []
    },
    {
      "cell_type": "markdown",
      "source": [
        "Bloque para conectar las listas y hacer un cálculo de tiempo\n"
      ],
      "metadata": {
        "id": "wToDcwKTYwfI"
      }
    },
    {
      "cell_type": "code",
      "source": [
        "acumulado.extend(proyecto1)\n",
        "acumulado.extend(proyecto2)\n",
        "acumulado.extend(proyecto3)"
      ],
      "metadata": {
        "id": "w0R5nRMmY0UJ"
      },
      "execution_count": 53,
      "outputs": []
    },
    {
      "cell_type": "markdown",
      "source": [
        "Bloque para el calculo de tiempo"
      ],
      "metadata": {
        "id": "aLvM7C_5PXi_"
      }
    },
    {
      "cell_type": "code",
      "source": [
        "#Se reciben la hora de entrada\n",
        "from datetime import datetime\n",
        "def HE():\n",
        "    entrada = input(\"Ingresa la hora de entrada (HH:MM): \")\n",
        "    HE = datetime.strptime(entrada, '%H:%M')\n",
        "    return HE"
      ],
      "metadata": {
        "id": "ehwzMpLTPlac"
      },
      "execution_count": 56,
      "outputs": []
    },
    {
      "cell_type": "code",
      "source": [
        "#se reciben las horas de salida\n",
        "def HS():\n",
        "    salida = input(\"Ingresa la hora de salida (HH:MM): \")\n",
        "    HS = datetime.strptime(salida, '%H:%M')\n",
        "    return HS"
      ],
      "metadata": {
        "id": "Jp2skS-HP16l"
      },
      "execution_count": 57,
      "outputs": []
    },
    {
      "cell_type": "code",
      "source": [
        "def calcular (HE, HS):\n",
        "    diferencia = HS - HE\n",
        "    total_segundos = diferencia.total_seconds()\n",
        "    horas = total_segundos // 3600  # Convertir de segundos a horas\n",
        "    minutos = (total_segundos % 3600) // 60  # Obtener los minutos restantes\n",
        "    return int(horas), int(minutos)"
      ],
      "metadata": {
        "id": "B0PNwGbpP4zG"
      },
      "execution_count": 58,
      "outputs": []
    },
    {
      "cell_type": "markdown",
      "source": [
        "Se crean las funciones para los proyectos"
      ],
      "metadata": {
        "id": "jV8zgiMMPiP2"
      }
    },
    {
      "cell_type": "code",
      "source": [
        "def compras():\n",
        "    empleado = input(\"Ingresa el nombre del empleado: \")  # Pide el nombre del empleado\n",
        "    proyecto1.append(empleado)  # Agrega el artículo a la lista de productos\n",
        "    print(f\"'{empleado}' registradoexitosamente.\")\n",
        "    entrada = input(\"Ingresa la hora de entrada (HH:MM): \")\n",
        "    salida = input(\"Ingresa la hora de salida (HH:MM): \")\n"
      ],
      "metadata": {
        "id": "mfmoXtT1OlWZ"
      },
      "execution_count": 70,
      "outputs": []
    },
    {
      "cell_type": "code",
      "source": [
        "def ventas():\n",
        "    empleado = input(\"Ingresa el nombre del empleado: \")  # Pide el nombre del empleado\n",
        "    ventas.append(empleado)  # Agrega al proyecto\n",
        "    print(f\"'{empleado}' registradoexitosamente.\")"
      ],
      "metadata": {
        "id": "kzTncr-tQ_z1"
      },
      "execution_count": 27,
      "outputs": []
    },
    {
      "cell_type": "code",
      "source": [
        "def construccion():\n",
        "    empleado = input(\"Ingresa el nombre del empleado: \")  # Pide el nombre del empleado\n",
        "    construccion.append(empleado)  # Agrega al proyecto\n",
        "    print(f\"'{empleado}' registradoexitosamente.\")"
      ],
      "metadata": {
        "id": "9ne_j7eERBoo"
      },
      "execution_count": 28,
      "outputs": []
    },
    {
      "cell_type": "markdown",
      "source": [],
      "metadata": {
        "id": "z6mdD8DERXxB"
      }
    },
    {
      "cell_type": "markdown",
      "source": [
        "Menú de proyectos"
      ],
      "metadata": {
        "id": "44JpMSXRLEiM"
      }
    },
    {
      "cell_type": "code",
      "source": [
        "#se crea el menú para los posibles proyectos a ingresar\n",
        "opciones = {\n",
        "   '1': ('compras',proyecto1),\n",
        "   '2': ('ventas',proyecto2),\n",
        "   '3': ('construccion',proyecto3)\n",
        "}"
      ],
      "metadata": {
        "id": "aUTnjbnZK8Yf"
      },
      "execution_count": 62,
      "outputs": []
    },
    {
      "cell_type": "code",
      "source": [
        "  #Menú funcionando\n",
        "print(\"\\n\\n\\n¿A qué proyecto desea registrarse?\")\n",
        "while True:\n",
        "    for clave, valor in opciones.items():\n",
        "        print(f\"{clave}: {valor[0]}\")\n",
        "\n",
        "    seleccion = input(\"\\nSelecciona una opción: \")\n",
        "\n",
        "    if seleccion in opciones:\n",
        "        opciones[seleccion][1]()  # Ejecuta la función correspondiente\n",
        "    elif seleccion == '0':\n",
        "        print(\"Saliendo del programa.\")\n",
        "        break\n",
        "    else:\n",
        "        print(\"Opción no válida, intenta de nuevo.\")"
      ],
      "metadata": {
        "colab": {
          "base_uri": "https://localhost:8080/",
          "height": 367
        },
        "id": "c9HDrsunXK7w",
        "outputId": "7457f7e5-70bf-4a1b-be3e-fadee577ce7c"
      },
      "execution_count": 69,
      "outputs": [
        {
          "name": "stdout",
          "output_type": "stream",
          "text": [
            "\n",
            "\n",
            "\n",
            "¿A qué proyecto desea registrarse?\n",
            "1: compras\n",
            "2: ventas\n",
            "3: construccion\n",
            "\n",
            "Selecciona una opción: 1\n"
          ]
        },
        {
          "output_type": "error",
          "ename": "TypeError",
          "evalue": "'list' object is not callable",
          "traceback": [
            "\u001b[0;31m---------------------------------------------------------------------------\u001b[0m",
            "\u001b[0;31mTypeError\u001b[0m                                 Traceback (most recent call last)",
            "\u001b[0;32m<ipython-input-69-f4bf7b60eeab>\u001b[0m in \u001b[0;36m<cell line: 3>\u001b[0;34m()\u001b[0m\n\u001b[1;32m      8\u001b[0m \u001b[0;34m\u001b[0m\u001b[0m\n\u001b[1;32m      9\u001b[0m   \u001b[0;32mif\u001b[0m \u001b[0mseleccion\u001b[0m \u001b[0;32min\u001b[0m \u001b[0mopciones\u001b[0m\u001b[0;34m:\u001b[0m\u001b[0;34m\u001b[0m\u001b[0;34m\u001b[0m\u001b[0m\n\u001b[0;32m---> 10\u001b[0;31m       \u001b[0mopciones\u001b[0m\u001b[0;34m[\u001b[0m\u001b[0mseleccion\u001b[0m\u001b[0;34m]\u001b[0m\u001b[0;34m[\u001b[0m\u001b[0;36m1\u001b[0m\u001b[0;34m]\u001b[0m\u001b[0;34m(\u001b[0m\u001b[0;34m)\u001b[0m  \u001b[0;31m# Ejecuta la función correspondiente\u001b[0m\u001b[0;34m\u001b[0m\u001b[0;34m\u001b[0m\u001b[0m\n\u001b[0m\u001b[1;32m     11\u001b[0m   \u001b[0;32melif\u001b[0m \u001b[0mseleccion\u001b[0m \u001b[0;34m==\u001b[0m \u001b[0;34m'0'\u001b[0m\u001b[0;34m:\u001b[0m\u001b[0;34m\u001b[0m\u001b[0;34m\u001b[0m\u001b[0m\n\u001b[1;32m     12\u001b[0m       \u001b[0mprint\u001b[0m\u001b[0;34m(\u001b[0m\u001b[0;34m\"Saliendo del programa.\"\u001b[0m\u001b[0;34m)\u001b[0m\u001b[0;34m\u001b[0m\u001b[0;34m\u001b[0m\u001b[0m\n",
            "\u001b[0;31mTypeError\u001b[0m: 'list' object is not callable"
          ]
        }
      ]
    }
  ]
}